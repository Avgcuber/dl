{
  "nbformat": 4,
  "nbformat_minor": 0,
  "metadata": {
    "colab": {
      "provenance": []
    },
    "kernelspec": {
      "name": "python3",
      "display_name": "Python 3"
    },
    "language_info": {
      "name": "python"
    }
  },
  "cells": [
    {
      "cell_type": "code",
      "execution_count": null,
      "metadata": {
        "colab": {
          "base_uri": "https://localhost:8080/"
        },
        "id": "8au_pWKWsyJF",
        "outputId": "a519b57a-4701-40ee-80b8-089bd2aeb71e"
      },
      "outputs": [
        {
          "output_type": "stream",
          "name": "stdout",
          "text": [
            "Loss: 0.41570802334998974\n",
            "Loss: 7.491944288763406e-05\n",
            "Loss: 6.208611560503477e-05\n",
            "Loss: 5.893704162361798e-05\n",
            "Loss: 5.6019665972624283e-05\n",
            "Loss: 5.331700475262524e-05\n",
            "Loss: 5.081786765459057e-05\n",
            "Loss: 4.851110486796544e-05\n",
            "Loss: 4.638566751686378e-05\n",
            "Loss: 4.443066821885118e-05\n",
            "Input: [[0.33333333 1.        ]\n",
            " [1.         0.71428571]\n",
            " [0.66666667 0.85714286]]\n",
            "Actual Output: [[0.87]\n",
            " [0.91]\n",
            " [0.88]]\n",
            "Loss: 4.263543728393732e-05\n",
            "\n",
            "\n",
            "Predicted Output: [[0.87161832]\n",
            " [0.90088717]\n",
            " [0.88649952]]\n",
            "Mean Absolute Error (MAE): 87.74683366048102\n",
            "Root Mean Squared Error (RMSE): 87.75474974409669\n"
          ]
        }
      ],
      "source": [
        "import numpy as np\n",
        "\n",
        "X = np.array(([1, 7], [3, 5], [2, 6]), dtype=float)\n",
        "y = np.array(([87], [91], [88]), dtype=float)\n",
        "\n",
        "X = X / np.amax(X, axis=0)\n",
        "y = y / 100\n",
        "\n",
        "class NeuralNetwork(object):\n",
        "    def __init__(self):\n",
        "        self.inputSize = 2\n",
        "        self.outputSize = 1\n",
        "        self.hiddenSize1 = 3\n",
        "        self.hiddenSize2 = 3\n",
        "\n",
        "        self.W1 = np.random.randn(self.inputSize, self.hiddenSize1)\n",
        "        self.W2 = np.random.randn(self.hiddenSize1, self.hiddenSize2)\n",
        "        self.W3 = np.random.randn(self.hiddenSize2, self.outputSize)\n",
        "\n",
        "    def feedForward(self, X):\n",
        "        self.z1 = np.dot(X, self.W1)\n",
        "        self.a1 = self.sigmoid(self.z1)\n",
        "        self.z2 = np.dot(self.a1, self.W2)\n",
        "        self.a2 = self.sigmoid(self.z2)\n",
        "        self.z3 = np.dot(self.a2, self.W3)\n",
        "        output = self.sigmoid(self.z3)\n",
        "        return output\n",
        "\n",
        "    def sigmoid(self, s, deriv=False):\n",
        "        if deriv:\n",
        "            return s * (1 - s)\n",
        "        return 1 / (1 + np.exp(-s))\n",
        "\n",
        "    def backward(self, X, y, output):\n",
        "        self.output_error = y - output\n",
        "        self.output_delta = self.output_error * self.sigmoid(output, deriv=True)\n",
        "\n",
        "\n",
        "        self.z2_error = self.output_delta.dot(self.W3.T)\n",
        "        self.z2_delta = self.z2_error * self.sigmoid(self.a2, deriv=True)\n",
        "\n",
        "        self.z1_error = self.z2_delta.dot(self.W2.T)\n",
        "        self.z1_delta = self.z1_error * self.sigmoid(self.a1, deriv=True)\n",
        "\n",
        "        self.W1 += X.T.dot(self.z1_delta)\n",
        "        self.W2 += self.a1.T.dot(self.z2_delta)\n",
        "        self.W3 += self.a2.T.dot(self.output_delta)\n",
        "\n",
        "    def train(self, X, y):\n",
        "        output = self.feedForward(X)\n",
        "        self.backward(X, y, output)\n",
        "\n",
        "NN = NeuralNetwork()\n",
        "\n",
        "for i in range(1000):\n",
        "    if (i % 100 == 0):\n",
        "        print(\"Loss: \" + str(np.mean(np.square(y - NN.feedForward(X)))))\n",
        "    NN.train(X, y)\n",
        "\n",
        "print(\"Input: \" + str(X))\n",
        "print(\"Actual Output: \" + str(y))\n",
        "print(\"Loss: \" + str(np.mean(np.square(y - NN.feedForward(X)))))\n",
        "print(\"\\n\")\n",
        "print(\"Predicted Output: \" + str(NN.feedForward(X)))\n",
        "\n",
        "predictions = NN.feedForward(X) * 100\n",
        "\n",
        "mae = np.mean(np.abs(y - predictions))\n",
        "rmse = np.sqrt(np.mean(np.square(y - predictions)))\n",
        "\n",
        "print(\"Mean Absolute Error (MAE):\", mae)\n",
        "print(\"Root Mean Squared Error (RMSE):\", rmse)\n",
        "\n"
      ]
    }
  ]
}